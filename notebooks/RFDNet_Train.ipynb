{
  "nbformat": 4,
  "nbformat_minor": 0,
  "metadata": {
    "colab": {
      "name": "RFDNet_Train.ipynb",
      "provenance": [],
      "collapsed_sections": [],
      "authorship_tag": "ABX9TyNzG22xJ0RGW6N5+2EKU3Rm",
      "include_colab_link": true
    },
    "kernelspec": {
      "name": "python3",
      "display_name": "Python 3"
    },
    "accelerator": "GPU"
  },
  "cells": [
    {
      "cell_type": "markdown",
      "metadata": {
        "id": "view-in-github",
        "colab_type": "text"
      },
      "source": [
        "<a href=\"https://colab.research.google.com/github/soumik12345/RFDNet/blob/master/notebooks/RFDNet_Train.ipynb\" target=\"_parent\"><img src=\"https://colab.research.google.com/assets/colab-badge.svg\" alt=\"Open In Colab\"/></a>"
      ]
    },
    {
      "cell_type": "code",
      "metadata": {
        "colab": {
          "base_uri": "https://localhost:8080/"
        },
        "id": "Ru7eHhwwep7_",
        "outputId": "bb1ebac6-f1ac-4bab-e913-0409ee6a244f"
      },
      "source": [
        "!nvidia-smi"
      ],
      "execution_count": 1,
      "outputs": [
        {
          "output_type": "stream",
          "text": [
            "Sun Nov 22 15:30:56 2020       \n",
            "+-----------------------------------------------------------------------------+\n",
            "| NVIDIA-SMI 455.38       Driver Version: 418.67       CUDA Version: 10.1     |\n",
            "|-------------------------------+----------------------+----------------------+\n",
            "| GPU  Name        Persistence-M| Bus-Id        Disp.A | Volatile Uncorr. ECC |\n",
            "| Fan  Temp  Perf  Pwr:Usage/Cap|         Memory-Usage | GPU-Util  Compute M. |\n",
            "|                               |                      |               MIG M. |\n",
            "|===============================+======================+======================|\n",
            "|   0  Tesla T4            Off  | 00000000:00:04.0 Off |                    0 |\n",
            "| N/A   41C    P8     9W /  70W |      0MiB / 15079MiB |      0%      Default |\n",
            "|                               |                      |                 ERR! |\n",
            "+-------------------------------+----------------------+----------------------+\n",
            "                                                                               \n",
            "+-----------------------------------------------------------------------------+\n",
            "| Processes:                                                                  |\n",
            "|  GPU   GI   CI        PID   Type   Process name                  GPU Memory |\n",
            "|        ID   ID                                                   Usage      |\n",
            "|=============================================================================|\n",
            "|  No running processes found                                                 |\n",
            "+-----------------------------------------------------------------------------+\n"
          ],
          "name": "stdout"
        }
      ]
    },
    {
      "cell_type": "code",
      "metadata": {
        "id": "862IvTCigGM0"
      },
      "source": [
        "!pip install -qq wandb"
      ],
      "execution_count": 2,
      "outputs": []
    },
    {
      "cell_type": "code",
      "metadata": {
        "colab": {
          "base_uri": "https://localhost:8080/"
        },
        "id": "Jci6Q3RNfmHU",
        "outputId": "653d6aae-732b-4e19-dd3a-0d7238a65c64"
      },
      "source": [
        "# !git clone https://github.com/soumik12345/RFDNet\n",
        "%cd RFDNet"
      ],
      "execution_count": 3,
      "outputs": [
        {
          "output_type": "stream",
          "text": [
            "/content/RFDNet\n"
          ],
          "name": "stdout"
        }
      ]
    },
    {
      "cell_type": "code",
      "metadata": {
        "id": "kMss4JMofv9R"
      },
      "source": [
        "from rfdnet import Trainer\n",
        "from rfdnet.utils import init_wandb"
      ],
      "execution_count": 4,
      "outputs": []
    },
    {
      "cell_type": "code",
      "metadata": {
        "colab": {
          "base_uri": "https://localhost:8080/",
          "height": 136
        },
        "id": "tm3tZ2mFf9Vn",
        "outputId": "099d0e23-db69-46df-f226-5092145977a7"
      },
      "source": [
        "init_wandb(\n",
        "    project_name='rfdnet', experiment_name='div2k_train',\n",
        "    wandb_api_key='cf0947ccde62903d4df0742a58b8a54ca4c11673'\n",
        ")"
      ],
      "execution_count": 5,
      "outputs": [
        {
          "output_type": "stream",
          "text": [
            "\u001b[34m\u001b[1mwandb\u001b[0m: Currently logged in as: \u001b[33m19soumik-rakshit96\u001b[0m (use `wandb login --relogin` to force relogin)\n"
          ],
          "name": "stderr"
        },
        {
          "output_type": "display_data",
          "data": {
            "text/html": [
              "\n",
              "                Tracking run with wandb version 0.10.11<br/>\n",
              "                Syncing run <strong style=\"color:#cdcd00\">div2k_train</strong> to <a href=\"https://wandb.ai\" target=\"_blank\">Weights & Biases</a> <a href=\"https://docs.wandb.com/integrations/jupyter.html\" target=\"_blank\">(Documentation)</a>.<br/>\n",
              "                Project page: <a href=\"https://wandb.ai/19soumik-rakshit96/rfdnet\" target=\"_blank\">https://wandb.ai/19soumik-rakshit96/rfdnet</a><br/>\n",
              "                Run page: <a href=\"https://wandb.ai/19soumik-rakshit96/rfdnet/runs/14t0gqsh\" target=\"_blank\">https://wandb.ai/19soumik-rakshit96/rfdnet/runs/14t0gqsh</a><br/>\n",
              "                Run data is saved locally in <code>/content/RFDNet/wandb/run-20201122_153102-14t0gqsh</code><br/><br/>\n",
              "            "
            ],
            "text/plain": [
              "<IPython.core.display.HTML object>"
            ]
          },
          "metadata": {
            "tags": []
          }
        }
      ]
    },
    {
      "cell_type": "code",
      "metadata": {
        "colab": {
          "base_uri": "https://localhost:8080/"
        },
        "id": "sRpHbUTzgN7u",
        "outputId": "f2ddafe2-9876-4730-9430-29b44449f88d"
      },
      "source": [
        "trainer = Trainer()\n",
        "trainer.build_dataset(\n",
        "    dataset_url='http://data.vision.ee.ethz.ch/cvl/DIV2K/DIV2K_train_HR.zip'\n",
        ")"
      ],
      "execution_count": 6,
      "outputs": [
        {
          "output_type": "stream",
          "text": [
            "Number of Images: 800\n"
          ],
          "name": "stdout"
        }
      ]
    },
    {
      "cell_type": "code",
      "metadata": {
        "id": "Qien2k-ygQ0C"
      },
      "source": [
        "trainer.compile(learning_rate=5e-4)"
      ],
      "execution_count": 7,
      "outputs": []
    },
    {
      "cell_type": "code",
      "metadata": {
        "colab": {
          "base_uri": "https://localhost:8080/"
        },
        "id": "Y6mJhAGfgUI4",
        "outputId": "fc1dae10-75e2-4eba-ca4f-df1c18d4bdc8"
      },
      "source": [
        "trainer.train()"
      ],
      "execution_count": 8,
      "outputs": [
        {
          "output_type": "stream",
          "text": [
            "Epoch 1/100\n",
            "  2/100 [..............................] - ETA: 28s - loss: 1.5064WARNING:tensorflow:Callbacks method `on_train_batch_end` is slow compared to the batch time (batch time: 0.0253s vs `on_train_batch_end` time: 0.5669s). Check your callbacks.\n",
            "100/100 [==============================] - 83s 835ms/step - loss: 0.0565\n",
            "Epoch 2/100\n",
            "100/100 [==============================] - 65s 648ms/step - loss: 0.0068\n",
            "Epoch 3/100\n",
            "100/100 [==============================] - 61s 609ms/step - loss: 0.0055\n",
            "Epoch 4/100\n",
            "100/100 [==============================] - 60s 605ms/step - loss: 0.0048\n",
            "Epoch 5/100\n",
            "100/100 [==============================] - 61s 609ms/step - loss: 0.0045\n",
            "Epoch 6/100\n",
            "100/100 [==============================] - 61s 613ms/step - loss: 0.0042\n",
            "Epoch 7/100\n",
            "100/100 [==============================] - 63s 630ms/step - loss: 0.0044\n",
            "Epoch 8/100\n",
            "100/100 [==============================] - 63s 627ms/step - loss: 0.0040\n",
            "Epoch 9/100\n",
            "100/100 [==============================] - 64s 639ms/step - loss: 0.0039\n",
            "Epoch 10/100\n",
            "100/100 [==============================] - 64s 644ms/step - loss: 0.0036\n",
            "Epoch 11/100\n",
            "100/100 [==============================] - 64s 644ms/step - loss: 0.0039\n",
            "Epoch 12/100\n",
            "100/100 [==============================] - 65s 648ms/step - loss: 0.0036\n",
            "Epoch 13/100\n",
            "100/100 [==============================] - 65s 651ms/step - loss: 0.0039\n",
            "Epoch 14/100\n",
            "100/100 [==============================] - 65s 651ms/step - loss: 0.0037\n",
            "Epoch 15/100\n",
            "100/100 [==============================] - 65s 647ms/step - loss: 0.0036\n",
            "Epoch 16/100\n",
            "100/100 [==============================] - 65s 647ms/step - loss: 0.0036\n",
            "Epoch 17/100\n",
            "100/100 [==============================] - 65s 652ms/step - loss: 0.0037\n",
            "Epoch 18/100\n",
            "100/100 [==============================] - 65s 650ms/step - loss: 0.0035\n",
            "Epoch 19/100\n",
            "100/100 [==============================] - 64s 644ms/step - loss: 0.0035\n",
            "Epoch 20/100\n",
            "100/100 [==============================] - 64s 640ms/step - loss: 0.0036\n",
            "Epoch 21/100\n",
            "100/100 [==============================] - 64s 645ms/step - loss: 0.0036\n",
            "Epoch 22/100\n",
            "100/100 [==============================] - 64s 643ms/step - loss: 0.0036\n",
            "Epoch 23/100\n",
            "100/100 [==============================] - 65s 645ms/step - loss: 0.0035\n",
            "Epoch 24/100\n",
            "100/100 [==============================] - 64s 645ms/step - loss: 0.0033\n",
            "Epoch 25/100\n",
            "100/100 [==============================] - 63s 633ms/step - loss: 0.0036\n",
            "Epoch 26/100\n",
            "100/100 [==============================] - 62s 624ms/step - loss: 0.0035\n",
            "Epoch 27/100\n",
            "100/100 [==============================] - 66s 657ms/step - loss: 0.0034\n",
            "Epoch 28/100\n",
            "100/100 [==============================] - 64s 644ms/step - loss: 0.0035\n",
            "Epoch 29/100\n",
            "100/100 [==============================] - 63s 632ms/step - loss: 0.0033\n",
            "Epoch 30/100\n",
            "100/100 [==============================] - 62s 623ms/step - loss: 0.0033\n",
            "Epoch 31/100\n",
            "100/100 [==============================] - 62s 618ms/step - loss: 0.0033\n",
            "Epoch 32/100\n",
            "100/100 [==============================] - 63s 626ms/step - loss: 0.0035\n",
            "Epoch 33/100\n",
            "100/100 [==============================] - 62s 616ms/step - loss: 0.0035\n",
            "Epoch 34/100\n",
            "100/100 [==============================] - 61s 614ms/step - loss: 0.0036\n"
          ],
          "name": "stdout"
        }
      ]
    },
    {
      "cell_type": "code",
      "metadata": {
        "colab": {
          "base_uri": "https://localhost:8080/",
          "height": 17
        },
        "id": "28PSYIVZWfvP",
        "outputId": "427c8a90-65ff-40f7-cc30-43462e5c7451"
      },
      "source": [
        "from glob import glob\n",
        "from google.colab import files\n",
        "\n",
        "\n",
        "for file in glob('/content/RFDNet/checkpoints/*'):\n",
        "    files.download(file)"
      ],
      "execution_count": 9,
      "outputs": [
        {
          "output_type": "display_data",
          "data": {
            "application/javascript": [
              "\n",
              "    async function download(id, filename, size) {\n",
              "      if (!google.colab.kernel.accessAllowed) {\n",
              "        return;\n",
              "      }\n",
              "      const div = document.createElement('div');\n",
              "      const label = document.createElement('label');\n",
              "      label.textContent = `Downloading \"${filename}\": `;\n",
              "      div.appendChild(label);\n",
              "      const progress = document.createElement('progress');\n",
              "      progress.max = size;\n",
              "      div.appendChild(progress);\n",
              "      document.body.appendChild(div);\n",
              "\n",
              "      const buffers = [];\n",
              "      let downloaded = 0;\n",
              "\n",
              "      const channel = await google.colab.kernel.comms.open(id);\n",
              "      // Send a message to notify the kernel that we're ready.\n",
              "      channel.send({})\n",
              "\n",
              "      for await (const message of channel.messages) {\n",
              "        // Send a message to notify the kernel that we're ready.\n",
              "        channel.send({})\n",
              "        if (message.buffers) {\n",
              "          for (const buffer of message.buffers) {\n",
              "            buffers.push(buffer);\n",
              "            downloaded += buffer.byteLength;\n",
              "            progress.value = downloaded;\n",
              "          }\n",
              "        }\n",
              "      }\n",
              "      const blob = new Blob(buffers, {type: 'application/binary'});\n",
              "      const a = document.createElement('a');\n",
              "      a.href = window.URL.createObjectURL(blob);\n",
              "      a.download = filename;\n",
              "      div.appendChild(a);\n",
              "      a.click();\n",
              "      div.remove();\n",
              "    }\n",
              "  "
            ],
            "text/plain": [
              "<IPython.core.display.Javascript object>"
            ]
          },
          "metadata": {
            "tags": []
          }
        },
        {
          "output_type": "display_data",
          "data": {
            "application/javascript": [
              "download(\"download_096b967d-0602-4f79-aa61-7585e3bba758\", \"rfdnet_best.h5\", 11902976)"
            ],
            "text/plain": [
              "<IPython.core.display.Javascript object>"
            ]
          },
          "metadata": {
            "tags": []
          }
        }
      ]
    },
    {
      "cell_type": "code",
      "metadata": {
        "id": "4hHiiheq-Wp5"
      },
      "source": [
        ""
      ],
      "execution_count": null,
      "outputs": []
    }
  ]
}