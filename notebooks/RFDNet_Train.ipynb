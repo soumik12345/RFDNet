{
  "nbformat": 4,
  "nbformat_minor": 0,
  "metadata": {
    "colab": {
      "name": "RFDNet_Train.ipynb",
      "provenance": [],
      "collapsed_sections": [],
      "authorship_tag": "ABX9TyODaOxaCVk1guC1r2xJ/U+g",
      "include_colab_link": true
    },
    "kernelspec": {
      "name": "python3",
      "display_name": "Python 3"
    },
    "accelerator": "GPU"
  },
  "cells": [
    {
      "cell_type": "markdown",
      "metadata": {
        "id": "view-in-github",
        "colab_type": "text"
      },
      "source": [
        "<a href=\"https://colab.research.google.com/github/soumik12345/RFDNet/blob/master/notebooks/RFDNet_Train.ipynb\" target=\"_parent\"><img src=\"https://colab.research.google.com/assets/colab-badge.svg\" alt=\"Open In Colab\"/></a>"
      ]
    },
    {
      "cell_type": "code",
      "metadata": {
        "colab": {
          "base_uri": "https://localhost:8080/"
        },
        "id": "Ru7eHhwwep7_",
        "outputId": "0bc742cb-f9b6-4d28-9e45-60c3895cf0c9"
      },
      "source": [
        "!nvidia-smi"
      ],
      "execution_count": 1,
      "outputs": [
        {
          "output_type": "stream",
          "text": [
            "Sun Nov 22 14:27:36 2020       \n",
            "+-----------------------------------------------------------------------------+\n",
            "| NVIDIA-SMI 455.38       Driver Version: 418.67       CUDA Version: 10.1     |\n",
            "|-------------------------------+----------------------+----------------------+\n",
            "| GPU  Name        Persistence-M| Bus-Id        Disp.A | Volatile Uncorr. ECC |\n",
            "| Fan  Temp  Perf  Pwr:Usage/Cap|         Memory-Usage | GPU-Util  Compute M. |\n",
            "|                               |                      |               MIG M. |\n",
            "|===============================+======================+======================|\n",
            "|   0  Tesla T4            Off  | 00000000:00:04.0 Off |                    0 |\n",
            "| N/A   68C    P8    11W /  70W |      0MiB / 15079MiB |      0%      Default |\n",
            "|                               |                      |                 ERR! |\n",
            "+-------------------------------+----------------------+----------------------+\n",
            "                                                                               \n",
            "+-----------------------------------------------------------------------------+\n",
            "| Processes:                                                                  |\n",
            "|  GPU   GI   CI        PID   Type   Process name                  GPU Memory |\n",
            "|        ID   ID                                                   Usage      |\n",
            "|=============================================================================|\n",
            "|  No running processes found                                                 |\n",
            "+-----------------------------------------------------------------------------+\n"
          ],
          "name": "stdout"
        }
      ]
    },
    {
      "cell_type": "code",
      "metadata": {
        "id": "862IvTCigGM0"
      },
      "source": [
        "!pip install -qq wandb"
      ],
      "execution_count": 2,
      "outputs": []
    },
    {
      "cell_type": "code",
      "metadata": {
        "colab": {
          "base_uri": "https://localhost:8080/"
        },
        "id": "Jci6Q3RNfmHU",
        "outputId": "fe7b3b89-4730-4ec8-aa36-8570329b63bb"
      },
      "source": [
        "# !git clone https://github.com/soumik12345/RFDNet\n",
        "%cd RFDNet"
      ],
      "execution_count": 3,
      "outputs": [
        {
          "output_type": "stream",
          "text": [
            "/content/RFDNet\n"
          ],
          "name": "stdout"
        }
      ]
    },
    {
      "cell_type": "code",
      "metadata": {
        "id": "kMss4JMofv9R"
      },
      "source": [
        "from rfdnet import Trainer\n",
        "from rfdnet.utils import init_wandb"
      ],
      "execution_count": 4,
      "outputs": []
    },
    {
      "cell_type": "code",
      "metadata": {
        "colab": {
          "base_uri": "https://localhost:8080/",
          "height": 136
        },
        "id": "tm3tZ2mFf9Vn",
        "outputId": "ac78f4e4-fccd-4740-c57e-f50280b9868d"
      },
      "source": [
        "init_wandb(\n",
        "    project_name='rfdnet', experiment_name='div2k_train',\n",
        "    wandb_api_key='cf0947ccde62903d4df0742a58b8a54ca4c11673'\n",
        ")"
      ],
      "execution_count": 5,
      "outputs": [
        {
          "output_type": "stream",
          "text": [
            "\u001b[34m\u001b[1mwandb\u001b[0m: Currently logged in as: \u001b[33m19soumik-rakshit96\u001b[0m (use `wandb login --relogin` to force relogin)\n"
          ],
          "name": "stderr"
        },
        {
          "output_type": "display_data",
          "data": {
            "text/html": [
              "\n",
              "                Tracking run with wandb version 0.10.11<br/>\n",
              "                Syncing run <strong style=\"color:#cdcd00\">div2k_train</strong> to <a href=\"https://wandb.ai\" target=\"_blank\">Weights & Biases</a> <a href=\"https://docs.wandb.com/integrations/jupyter.html\" target=\"_blank\">(Documentation)</a>.<br/>\n",
              "                Project page: <a href=\"https://wandb.ai/19soumik-rakshit96/rfdnet\" target=\"_blank\">https://wandb.ai/19soumik-rakshit96/rfdnet</a><br/>\n",
              "                Run page: <a href=\"https://wandb.ai/19soumik-rakshit96/rfdnet/runs/2qboxd2n\" target=\"_blank\">https://wandb.ai/19soumik-rakshit96/rfdnet/runs/2qboxd2n</a><br/>\n",
              "                Run data is saved locally in <code>/content/RFDNet/wandb/run-20201122_142741-2qboxd2n</code><br/><br/>\n",
              "            "
            ],
            "text/plain": [
              "<IPython.core.display.HTML object>"
            ]
          },
          "metadata": {
            "tags": []
          }
        }
      ]
    },
    {
      "cell_type": "code",
      "metadata": {
        "colab": {
          "base_uri": "https://localhost:8080/"
        },
        "id": "sRpHbUTzgN7u",
        "outputId": "b81586b6-b164-4641-ec46-e57fa9761962"
      },
      "source": [
        "trainer = Trainer()\n",
        "trainer.build_dataset(\n",
        "    dataset_url='http://data.vision.ee.ethz.ch/cvl/DIV2K/DIV2K_train_HR.zip'\n",
        ")"
      ],
      "execution_count": 6,
      "outputs": [
        {
          "output_type": "stream",
          "text": [
            "Number of Images: 800\n"
          ],
          "name": "stdout"
        }
      ]
    },
    {
      "cell_type": "code",
      "metadata": {
        "id": "Qien2k-ygQ0C"
      },
      "source": [
        "trainer.compile(learning_rate=5e-4)"
      ],
      "execution_count": 7,
      "outputs": []
    },
    {
      "cell_type": "code",
      "metadata": {
        "colab": {
          "base_uri": "https://localhost:8080/"
        },
        "id": "Y6mJhAGfgUI4",
        "outputId": "b83c3603-d43d-443b-adc8-5245d8177b37"
      },
      "source": [
        "trainer.train()"
      ],
      "execution_count": null,
      "outputs": [
        {
          "output_type": "stream",
          "text": [
            "Epoch 1/100\n",
            "  2/100 [..............................] - ETA: 7s - loss: 8.5832WARNING:tensorflow:Callbacks method `on_train_batch_end` is slow compared to the batch time (batch time: 0.0323s vs `on_train_batch_end` time: 0.1175s). Check your callbacks.\n",
            "100/100 [==============================] - 78s 777ms/step - loss: 0.9585\n",
            "Epoch 2/100\n",
            "100/100 [==============================] - 70s 697ms/step - loss: 0.0180\n",
            "Epoch 3/100\n",
            "100/100 [==============================] - 66s 660ms/step - loss: 0.0133\n",
            "Epoch 4/100\n",
            "100/100 [==============================] - 65s 650ms/step - loss: 0.0118\n",
            "Epoch 5/100\n",
            "100/100 [==============================] - 66s 664ms/step - loss: 0.0113\n",
            "Epoch 6/100\n",
            "100/100 [==============================] - 65s 653ms/step - loss: 0.0113\n",
            "Epoch 7/100\n",
            "100/100 [==============================] - 63s 632ms/step - loss: 0.0104\n",
            "Epoch 8/100\n",
            "100/100 [==============================] - 63s 628ms/step - loss: 0.0107\n",
            "Epoch 9/100\n",
            "100/100 [==============================] - 64s 636ms/step - loss: 0.0104\n",
            "Epoch 10/100\n",
            "100/100 [==============================] - 64s 644ms/step - loss: 0.0105\n",
            "Epoch 11/100\n",
            "100/100 [==============================] - 64s 636ms/step - loss: 0.0103\n",
            "Epoch 12/100\n",
            "100/100 [==============================] - 66s 658ms/step - loss: 0.0108\n",
            "Epoch 13/100\n",
            "100/100 [==============================] - 65s 654ms/step - loss: 0.0106\n",
            "Epoch 14/100\n",
            "100/100 [==============================] - 65s 652ms/step - loss: 0.0105\n",
            "Epoch 15/100\n",
            "100/100 [==============================] - 65s 649ms/step - loss: 0.0106\n",
            "Epoch 16/100\n",
            "100/100 [==============================] - 65s 650ms/step - loss: 0.0108\n",
            "Epoch 17/100\n",
            "100/100 [==============================] - 64s 643ms/step - loss: 0.0107\n",
            "Epoch 18/100\n",
            "100/100 [==============================] - 64s 636ms/step - loss: 0.0105\n",
            "Epoch 19/100\n",
            "100/100 [==============================] - 65s 649ms/step - loss: 0.0105\n",
            "Epoch 20/100\n",
            "100/100 [==============================] - 66s 658ms/step - loss: 0.0107\n",
            "Epoch 21/100\n",
            "100/100 [==============================] - 66s 659ms/step - loss: 0.0103\n",
            "Epoch 22/100\n",
            "100/100 [==============================] - 66s 660ms/step - loss: 0.0103\n",
            "Epoch 23/100\n",
            "100/100 [==============================] - 66s 656ms/step - loss: 0.0102\n",
            "Epoch 24/100\n",
            "100/100 [==============================] - 67s 666ms/step - loss: 0.0105\n",
            "Epoch 25/100\n",
            "100/100 [==============================] - 66s 660ms/step - loss: 0.0101\n",
            "Epoch 26/100\n",
            "100/100 [==============================] - 66s 665ms/step - loss: 0.0100\n",
            "Epoch 27/100\n",
            "100/100 [==============================] - 66s 661ms/step - loss: 0.0106\n",
            "Epoch 28/100\n",
            "100/100 [==============================] - 66s 656ms/step - loss: 0.0107\n",
            "Epoch 29/100\n",
            "100/100 [==============================] - 66s 656ms/step - loss: 0.0104\n",
            "Epoch 30/100\n",
            "100/100 [==============================] - 66s 656ms/step - loss: 0.0106\n",
            "Epoch 31/100\n",
            "100/100 [==============================] - 66s 656ms/step - loss: 0.0106\n",
            "Epoch 32/100\n",
            "100/100 [==============================] - 66s 661ms/step - loss: 0.0104\n",
            "Epoch 33/100\n",
            "100/100 [==============================] - 66s 660ms/step - loss: 0.0109\n",
            "Epoch 34/100\n",
            " 82/100 [=======================>......] - ETA: 11s - loss: 0.0107"
          ],
          "name": "stdout"
        }
      ]
    },
    {
      "cell_type": "code",
      "metadata": {
        "id": "28PSYIVZWfvP"
      },
      "source": [
        ""
      ],
      "execution_count": null,
      "outputs": []
    }
  ]
}